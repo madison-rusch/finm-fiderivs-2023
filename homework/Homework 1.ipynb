{
 "cells": [
  {
   "cell_type": "markdown",
   "id": "13234336",
   "metadata": {},
   "source": [
    "# Homework 1\n",
    "\n",
    "## FINM 37500 - 2023\n",
    "\n",
    "### UChicago Financial Mathematics\n",
    "\n",
    "* Mark Hendricks\n",
    "* hendricks@uchicago.edu"
   ]
  },
  {
   "cell_type": "markdown",
   "id": "9fd45132",
   "metadata": {},
   "source": [
    "# Context\n",
    "\n",
    "For use in these problems, consider the data below, discussed in Veronesi's *Fixed Income Securities* Chapters 9, 10.\n",
    "* interest-rate tree\n",
    "* current term structure"
   ]
  },
  {
   "cell_type": "code",
   "execution_count": 40,
   "id": "77c9623a",
   "metadata": {},
   "outputs": [],
   "source": [
    "import numpy as np\n",
    "import pandas as pd\n",
    "import math"
   ]
  },
  {
   "cell_type": "code",
   "execution_count": 41,
   "id": "98b27b7b",
   "metadata": {},
   "outputs": [
    {
     "data": {
      "text/html": [
       "<style type=\"text/css\">\n",
       "</style>\n",
       "<table id=\"T_55701\">\n",
       "  <thead>\n",
       "    <tr>\n",
       "      <th class=\"index_name level0\" >time $t$</th>\n",
       "      <th id=\"T_55701_level0_col0\" class=\"col_heading level0 col0\" >0</th>\n",
       "      <th id=\"T_55701_level0_col1\" class=\"col_heading level0 col1\" >0.5</th>\n",
       "    </tr>\n",
       "    <tr>\n",
       "      <th class=\"index_name level0\" >node</th>\n",
       "      <th class=\"blank col0\" >&nbsp;</th>\n",
       "      <th class=\"blank col1\" >&nbsp;</th>\n",
       "    </tr>\n",
       "  </thead>\n",
       "  <tbody>\n",
       "    <tr>\n",
       "      <th id=\"T_55701_level0_row0\" class=\"row_heading level0 row0\" >0</th>\n",
       "      <td id=\"T_55701_row0_col0\" class=\"data row0 col0\" >1.74%</td>\n",
       "      <td id=\"T_55701_row0_col1\" class=\"data row0 col1\" >3.39%</td>\n",
       "    </tr>\n",
       "    <tr>\n",
       "      <th id=\"T_55701_level0_row1\" class=\"row_heading level0 row1\" >1</th>\n",
       "      <td id=\"T_55701_row1_col0\" class=\"data row1 col0\" ></td>\n",
       "      <td id=\"T_55701_row1_col1\" class=\"data row1 col1\" >0.95%</td>\n",
       "    </tr>\n",
       "  </tbody>\n",
       "</table>\n"
      ],
      "text/plain": [
       "<pandas.io.formats.style.Styler at 0x201e529faf0>"
      ]
     },
     "execution_count": 41,
     "metadata": {},
     "output_type": "execute_result"
    }
   ],
   "source": [
    "rate_tree = pd.DataFrame({'0':[.0174,np.nan],'0.5':[.0339,.0095]})\n",
    "rate_tree.columns.name = 'time $t$'\n",
    "rate_tree.index.name = 'node'\n",
    "rate_tree.style.format('{:.2%}',na_rep='')"
   ]
  },
  {
   "cell_type": "markdown",
   "id": "f2ffc190",
   "metadata": {},
   "source": [
    "The \"tree\" is displayed as a pandas dataframe, so it does not list \"up\" and \"down\" for the rows but rather an index of nodes. The meaning should be clear."
   ]
  },
  {
   "cell_type": "code",
   "execution_count": 42,
   "id": "ff1a260f",
   "metadata": {},
   "outputs": [
    {
     "data": {
      "text/html": [
       "<style type=\"text/css\">\n",
       "</style>\n",
       "<table id=\"T_2b566\">\n",
       "  <thead>\n",
       "    <tr>\n",
       "      <th class=\"blank level0\" >&nbsp;</th>\n",
       "      <th id=\"T_2b566_level0_col0\" class=\"col_heading level0 col0\" >price</th>\n",
       "      <th id=\"T_2b566_level0_col1\" class=\"col_heading level0 col1\" >continuous ytm</th>\n",
       "    </tr>\n",
       "    <tr>\n",
       "      <th class=\"index_name level0\" >maturity</th>\n",
       "      <th class=\"blank col0\" >&nbsp;</th>\n",
       "      <th class=\"blank col1\" >&nbsp;</th>\n",
       "    </tr>\n",
       "  </thead>\n",
       "  <tbody>\n",
       "    <tr>\n",
       "      <th id=\"T_2b566_level0_row0\" class=\"row_heading level0 row0\" >0.5</th>\n",
       "      <td id=\"T_2b566_row0_col0\" class=\"data row0 col0\" >99.1338</td>\n",
       "      <td id=\"T_2b566_row0_col1\" class=\"data row0 col1\" >1.74%</td>\n",
       "    </tr>\n",
       "    <tr>\n",
       "      <th id=\"T_2b566_level0_row1\" class=\"row_heading level0 row1\" >1.0</th>\n",
       "      <td id=\"T_2b566_row1_col0\" class=\"data row1 col0\" >97.8925</td>\n",
       "      <td id=\"T_2b566_row1_col1\" class=\"data row1 col1\" >2.13%</td>\n",
       "    </tr>\n",
       "    <tr>\n",
       "      <th id=\"T_2b566_level0_row2\" class=\"row_heading level0 row2\" >1.5</th>\n",
       "      <td id=\"T_2b566_row2_col0\" class=\"data row2 col0\" >96.1462</td>\n",
       "      <td id=\"T_2b566_row2_col1\" class=\"data row2 col1\" >2.62%</td>\n",
       "    </tr>\n",
       "  </tbody>\n",
       "</table>\n"
      ],
      "text/plain": [
       "<pandas.io.formats.style.Styler at 0x201f63beb30>"
      ]
     },
     "execution_count": 42,
     "metadata": {},
     "output_type": "execute_result"
    }
   ],
   "source": [
    "term_struct = pd.DataFrame({'maturity':[.5,1,1.5],'price':[99.1338,97.8925,96.1462]})\n",
    "term_struct['continuous ytm'] = -np.log(term_struct['price']/100) / term_struct['maturity']\n",
    "term_struct.set_index('maturity',inplace=True)\n",
    "term_struct.style.format({'price':'{:.4f}','continuous ytm':'{:.2%}'}).format_index('{:.1f}')"
   ]
  },
  {
   "cell_type": "markdown",
   "id": "4c7113c7",
   "metadata": {},
   "source": [
    "This is the current term-structure observed at $t=0$."
   ]
  },
  {
   "attachments": {},
   "cell_type": "markdown",
   "id": "a0440315",
   "metadata": {},
   "source": [
    "# 1. Pricing a Swap\n",
    "\n",
    "### 1.1 \n",
    "Calculate the tree of bond prices for the 2-period, $T=1$, bond.\n"
   ]
  },
  {
   "cell_type": "code",
   "execution_count": 43,
   "id": "6ad69423",
   "metadata": {},
   "outputs": [
    {
     "name": "stdout",
     "output_type": "stream",
     "text": [
      "At t=0 the price (given in the table above) is: 97.8925\n",
      "At t=0.5 when rates have moved up the price is: 98.3193\n",
      "At t=0.5 when rates have moved down the price is: 99.5261\n",
      "At t=1 we have hit the terminal nodes and all prices are: 100\n"
     ]
    }
   ],
   "source": [
    "P_0_2 = 97.8925 # Given in info above\n",
    "print(f\"At t=0 the price (given in the table above) is: {P_0_2}\")\n",
    "\n",
    "up_rate = 0.0339\n",
    "P_1up_2 = math.exp(-up_rate * 0.5) * 100\n",
    "print(f\"At t=0.5 when rates have moved up the price is: {round(P_1up_2, 4)}\")\n",
    "\n",
    "down_rate = 0.0095\n",
    "P_1down_2 = math.exp(-down_rate * 0.5) * 100\n",
    "print(f\"At t=0.5 when rates have moved down the price is: {round(P_1down_2, 4)}\")\n",
    "\n",
    "P_2upup = P_2updown = P_2downup = P_2downdown = 100\n",
    "print(f\"At t=1 we have hit the terminal nodes and all prices are: 100\")\n"
   ]
  },
  {
   "attachments": {
    "image.png": {
     "image/png": "[encoded data removed]"
    }
   },
   "cell_type": "markdown",
   "id": "891842ee",
   "metadata": {},
   "source": [
    "Note that these prices align with the class discussion values.\n",
    "\n",
    "\n",
    "### 1.2 \n",
    "What is the risk-neutral probability of an upward movement of interest rates at $t=.5$?\n",
    "\n",
    "We'll use this formula:\n",
    "\n",
    "![image.png](attachment:image.png)"
   ]
  },
  {
   "cell_type": "code",
   "execution_count": 44,
   "id": "c6412893",
   "metadata": {},
   "outputs": [
    {
     "name": "stdout",
     "output_type": "stream",
     "text": [
      "The risk neutral probability of an upward movement is: 0.6448615964742744, or 64.49%\n"
     ]
    }
   ],
   "source": [
    "r0 = 0.0174\n",
    "dt = 0.5\n",
    "A = np.exp(r0 * dt)\n",
    "pstar = (P_0_2 * A - P_1down_2)/(P_1up_2-P_1down_2)\n",
    "\n",
    "print(f\"The risk neutral probability of an upward movement is: {pstar}, or {round(pstar * 100, 2)}%\")"
   ]
  },
  {
   "attachments": {},
   "cell_type": "markdown",
   "id": "4e5edea4",
   "metadata": {},
   "source": [
    "## The option contract\n",
    "\n",
    "Consider a single-period swap that pays at time period 1 ($t=0.5$), the expiration payoff (and thus terminal value) is\n",
    "* Payoff = $\\frac{100}{2}(r_1 −c)$\n",
    "* with $c=2\\%$\n",
    "* payments are semiannual\n",
    "\n",
    "Take the viewpoint of a fixed-rate payer, floating rate receiver.\n",
    "\n",
    "### 1.3 \n",
    "What is the replicating trade using the two bonds (period 1 and period 2)?\n"
   ]
  },
  {
   "cell_type": "code",
   "execution_count": 45,
   "id": "9f01b5fa",
   "metadata": {},
   "outputs": [
    {
     "data": {
      "text/html": [
       "<div>\n",
       "<style scoped>\n",
       "    .dataframe tbody tr th:only-of-type {\n",
       "        vertical-align: middle;\n",
       "    }\n",
       "\n",
       "    .dataframe tbody tr th {\n",
       "        vertical-align: top;\n",
       "    }\n",
       "\n",
       "    .dataframe thead th {\n",
       "        text-align: right;\n",
       "    }\n",
       "</style>\n",
       "<table border=\"1\" class=\"dataframe\">\n",
       "  <thead>\n",
       "    <tr style=\"text-align: right;\">\n",
       "      <th></th>\n",
       "      <th>price</th>\n",
       "      <th>position</th>\n",
       "      <th>$ holding</th>\n",
       "    </tr>\n",
       "  </thead>\n",
       "  <tbody>\n",
       "    <tr>\n",
       "      <th>1-period bond</th>\n",
       "      <td>$99.1338</td>\n",
       "      <td>1.000897</td>\n",
       "      <td>$99.2227</td>\n",
       "    </tr>\n",
       "    <tr>\n",
       "      <th>2-period bond</th>\n",
       "      <td>$97.8925</td>\n",
       "      <td>-1.010938</td>\n",
       "      <td>$-98.9632</td>\n",
       "    </tr>\n",
       "    <tr>\n",
       "      <th>net</th>\n",
       "      <td>$nan</td>\n",
       "      <td>NaN</td>\n",
       "      <td>$0.2595</td>\n",
       "    </tr>\n",
       "  </tbody>\n",
       "</table>\n",
       "</div>"
      ],
      "text/plain": [
       "                  price  position  $ holding\n",
       "1-period bond  $99.1338  1.000897   $99.2227\n",
       "2-period bond  $97.8925 -1.010938  $-98.9632\n",
       "net                $nan       NaN    $0.2595"
      ]
     },
     "execution_count": 45,
     "metadata": {},
     "output_type": "execute_result"
    }
   ],
   "source": [
    "# Following the class replication, changing payoff function\n",
    "FACE = 100\n",
    "r1 = np.array([.0339, .0095])\n",
    "rK = 0.02\n",
    "fud = FACE / 2 * (r1 - rK)\n",
    "\n",
    "P1_2 = [98.3193, 99.5261]\n",
    "\n",
    "beta = (fud[0] - fud[1]) / (P1_2[0] - P1_2[1])\n",
    "alpha = (fud[0] - beta * P1_2[0])/FACE\n",
    "\n",
    "position = pd.DataFrame(index=['1-period bond','2-period bond'],columns=['price','position','$ holding'],dtype=float)\n",
    "position['price'] = term_struct.iloc[0:2,0].values\n",
    "position['position'] = [alpha,beta]\n",
    "position['$ holding'] = position['price'] * position['position']\n",
    "position.loc['net','$ holding'] = position['$ holding'].sum()\n",
    "position['price'] = position['price'].map('${:,.4f}'.format)\n",
    "position['$ holding'] = position['$ holding'].map('${:,.4f}'.format)\n",
    "position"
   ]
  },
  {
   "attachments": {},
   "cell_type": "markdown",
   "id": "61d9a338",
   "metadata": {},
   "source": [
    "### 1.4 \n",
    "What is the price of the swap?\n",
    "\n",
    "Based on the replicating tree above, we can see that the value of the swap is $0.2595"
   ]
  },
  {
   "attachments": {
    "image-2.png": {
     "image/png": "[encoded data removed]"
    }
   },
   "cell_type": "markdown",
   "id": "c21e15b7",
   "metadata": {},
   "source": [
    "# 2. Using the Swap as the Underlying\n",
    "As in the note, W.1, consider pricing the following interest-rate option,\n",
    "* Payoff is $100\\max(r_K-r_1,0)$\n",
    "* strike is $r_K$ is 2\\%\n",
    "* expires at period 1, ($t=0.5$) \n",
    "\n",
    "Unlike the note, price it with the swap used as the underlying, not the two-period ($t=1$) bond. You will once again use the period-1 ($t=0.5$) bond as the cash account for the no-arbitrage pricing.\n",
    "\n",
    "So instead of replicating the option with the two treasuries, now you're replicating/pricing it with a one-period bond and two-period swap.\n",
    "\n",
    "### 2.1\n",
    "Display the tree of swap prices.\n",
    "\n",
    "![image.png](attachment:image-2.png)\n",
    "\n",
    "### 2.2\n",
    "What is the risk-neutral probability of an upward movement at $t=.5$ implied by the underlying swap tree? \n",
    "\n",
    "Is this the same as the risk-neutral probability we found when the bond was used as the underlying?"
   ]
  },
  {
   "cell_type": "code",
   "execution_count": 46,
   "id": "2a92a0ee",
   "metadata": {},
   "outputs": [
    {
     "name": "stdout",
     "output_type": "stream",
     "text": [
      "The risk neutral probability of an upward movement is: 0.6448913928850879, or 64.49%\n"
     ]
    }
   ],
   "source": [
    "r0 = 0.0174\n",
    "dt = 0.5\n",
    "A = np.exp(r0 * dt)\n",
    "\n",
    "P_0 = 0.2595\n",
    "P_1up = 0.695\n",
    "P_1down = -0.525\n",
    "pstar = (P_0 * A - P_1down)/(P_1up-P_1down)\n",
    "\n",
    "print(f\"The risk neutral probability of an upward movement is: {pstar}, or {round(pstar * 100, 2)}%\")"
   ]
  },
  {
   "attachments": {},
   "cell_type": "markdown",
   "id": "901b17d5",
   "metadata": {},
   "source": [
    "We note that this is the same risk-neutral probability we found with the bond."
   ]
  },
  {
   "attachments": {},
   "cell_type": "markdown",
   "id": "d5d67bd1",
   "metadata": {},
   "source": [
    "### 2.3\n",
    "What is the price of the rate option? Is it the same as we calculated in the note, W.1.?"
   ]
  },
  {
   "cell_type": "code",
   "execution_count": 47,
   "id": "37b120b8",
   "metadata": {},
   "outputs": [
    {
     "data": {
      "text/html": [
       "<div>\n",
       "<style scoped>\n",
       "    .dataframe tbody tr th:only-of-type {\n",
       "        vertical-align: middle;\n",
       "    }\n",
       "\n",
       "    .dataframe tbody tr th {\n",
       "        vertical-align: top;\n",
       "    }\n",
       "\n",
       "    .dataframe thead th {\n",
       "        text-align: right;\n",
       "    }\n",
       "</style>\n",
       "<table border=\"1\" class=\"dataframe\">\n",
       "  <thead>\n",
       "    <tr style=\"text-align: right;\">\n",
       "      <th></th>\n",
       "      <th>price</th>\n",
       "      <th>position</th>\n",
       "      <th>$ holding</th>\n",
       "    </tr>\n",
       "  </thead>\n",
       "  <tbody>\n",
       "    <tr>\n",
       "      <th>1-period bond</th>\n",
       "      <td>$99.1338</td>\n",
       "      <td>0.005982</td>\n",
       "      <td>$0.5930</td>\n",
       "    </tr>\n",
       "    <tr>\n",
       "      <th>2-period swap</th>\n",
       "      <td>$0.2595</td>\n",
       "      <td>-0.860656</td>\n",
       "      <td>$-0.2233</td>\n",
       "    </tr>\n",
       "    <tr>\n",
       "      <th>net</th>\n",
       "      <td>$nan</td>\n",
       "      <td>NaN</td>\n",
       "      <td>$0.3696</td>\n",
       "    </tr>\n",
       "  </tbody>\n",
       "</table>\n",
       "</div>"
      ],
      "text/plain": [
       "                  price  position $ holding\n",
       "1-period bond  $99.1338  0.005982   $0.5930\n",
       "2-period swap   $0.2595 -0.860656  $-0.2233\n",
       "net                $nan       NaN   $0.3696"
      ]
     },
     "execution_count": 47,
     "metadata": {},
     "output_type": "execute_result"
    }
   ],
   "source": [
    "FACE = 100\n",
    "r0 = .0174\n",
    "r1 = np.array([.0339, .0095])\n",
    "rK = .02\n",
    "fud = FACE * (rK-r1)\n",
    "fud[fud<0] = 0\n",
    "\n",
    "P1_2 = [0.695, -0.525]\n",
    "\n",
    "beta = (fud[0] - fud[1]) / (P1_2[0] - P1_2[1])\n",
    "alpha = (fud[0] - beta * P1_2[0])/FACE\n",
    "\n",
    "position = pd.DataFrame(index=['1-period bond','2-period swap'],columns=['price','position','$ holding'],dtype=float)\n",
    "position['price'] = [term_struct.iloc[0,0], P_0]\n",
    "position['position'] = [alpha,beta]\n",
    "position['$ holding'] = position['price'] * position['position']\n",
    "position.loc['net','$ holding'] = position['$ holding'].sum()\n",
    "position['price'] = position['price'].map('${:,.4f}'.format)\n",
    "position['$ holding'] = position['$ holding'].map('${:,.4f}'.format)\n",
    "position"
   ]
  },
  {
   "attachments": {},
   "cell_type": "markdown",
   "id": "053986cb",
   "metadata": {},
   "source": [
    "This price is the same as we calculated in class: $0.3696"
   ]
  },
  {
   "attachments": {},
   "cell_type": "markdown",
   "id": "87504311",
   "metadata": {},
   "source": [
    "# 3. Pricing a Call on a Bond\n",
    "\n",
    "Try using the same tree to price a call on the period-2 bond, (1-year), at period 1 (6-months).\n",
    "* Payoff = $\\max(P_{1|2}-K,0)$\n",
    "* Strike = \\$99.00\n",
    "\n",
    "### 3.1 \n",
    "What is the replicating trade using the two bonds (period 1 and period 2) as above? (That is, we are no longer using the swap as the underlying.)\n"
   ]
  },
  {
   "cell_type": "code",
   "execution_count": 48,
   "id": "34be9cc5",
   "metadata": {},
   "outputs": [
    {
     "data": {
      "text/html": [
       "<div>\n",
       "<style scoped>\n",
       "    .dataframe tbody tr th:only-of-type {\n",
       "        vertical-align: middle;\n",
       "    }\n",
       "\n",
       "    .dataframe tbody tr th {\n",
       "        vertical-align: top;\n",
       "    }\n",
       "\n",
       "    .dataframe thead th {\n",
       "        text-align: right;\n",
       "    }\n",
       "</style>\n",
       "<table border=\"1\" class=\"dataframe\">\n",
       "  <thead>\n",
       "    <tr style=\"text-align: right;\">\n",
       "      <th></th>\n",
       "      <th>price</th>\n",
       "      <th>position</th>\n",
       "      <th>$ holding</th>\n",
       "    </tr>\n",
       "  </thead>\n",
       "  <tbody>\n",
       "    <tr>\n",
       "      <th>1-period bond</th>\n",
       "      <td>$99.1338</td>\n",
       "      <td>-0.428619</td>\n",
       "      <td>$-42.4907</td>\n",
       "    </tr>\n",
       "    <tr>\n",
       "      <th>2-period bond</th>\n",
       "      <td>$97.8925</td>\n",
       "      <td>0.435946</td>\n",
       "      <td>$42.6759</td>\n",
       "    </tr>\n",
       "    <tr>\n",
       "      <th>net</th>\n",
       "      <td>$nan</td>\n",
       "      <td>NaN</td>\n",
       "      <td>$0.1852</td>\n",
       "    </tr>\n",
       "  </tbody>\n",
       "</table>\n",
       "</div>"
      ],
      "text/plain": [
       "                  price  position  $ holding\n",
       "1-period bond  $99.1338 -0.428619  $-42.4907\n",
       "2-period bond  $97.8925  0.435946   $42.6759\n",
       "net                $nan       NaN    $0.1852"
      ]
     },
     "execution_count": 48,
     "metadata": {},
     "output_type": "execute_result"
    }
   ],
   "source": [
    "FACE = 100\n",
    "P1_2 = [98.3193, 99.5261]\n",
    "K = 99\n",
    "fud = [0, P1_2[1] - K]\n",
    "\n",
    "beta = (fud[0] - fud[1]) / (P1_2[0] - P1_2[1])\n",
    "alpha = (fud[0] - beta * P1_2[0])/FACE\n",
    "\n",
    "position = pd.DataFrame(index=['1-period bond','2-period bond'],columns=['price','position','$ holding'],dtype=float)\n",
    "position['price'] = term_struct.iloc[0:2,0].values\n",
    "position['position'] = [alpha,beta]\n",
    "position['$ holding'] = position['price'] * position['position']\n",
    "position.loc['net','$ holding'] = position['$ holding'].sum()\n",
    "position['price'] = position['price'].map('${:,.4f}'.format)\n",
    "position['$ holding'] = position['$ holding'].map('${:,.4f}'.format)\n",
    "position"
   ]
  },
  {
   "attachments": {},
   "cell_type": "markdown",
   "id": "67fbc95c",
   "metadata": {},
   "source": [
    "\n",
    "### 3.2 \n",
    "What is the price of the European call option? \n",
    "* expiring at $T=.5$ \n",
    "* written on the bond maturing in 2 periods, ($t=1$)\n",
    "\n",
    "According to the replication above, the price is $0.1852"
   ]
  },
  {
   "cell_type": "markdown",
   "id": "6d76cdf8",
   "metadata": {},
   "source": [
    "# 4 Two-Period Tree\n",
    "\n",
    "Consider an expanded, **2 period** tree. (Two periods of uncertainty, so with the starting point, three periods total.)"
   ]
  },
  {
   "cell_type": "code",
   "execution_count": 49,
   "id": "69c01950",
   "metadata": {},
   "outputs": [
    {
     "data": {
      "text/html": [
       "<style type=\"text/css\">\n",
       "</style>\n",
       "<table id=\"T_165a6\">\n",
       "  <thead>\n",
       "    <tr>\n",
       "      <th class=\"index_name level0\" >time $t$</th>\n",
       "      <th id=\"T_165a6_level0_col0\" class=\"col_heading level0 col0\" >0</th>\n",
       "      <th id=\"T_165a6_level0_col1\" class=\"col_heading level0 col1\" >0.5</th>\n",
       "      <th id=\"T_165a6_level0_col2\" class=\"col_heading level0 col2\" >1</th>\n",
       "    </tr>\n",
       "    <tr>\n",
       "      <th class=\"index_name level0\" >node</th>\n",
       "      <th class=\"blank col0\" >&nbsp;</th>\n",
       "      <th class=\"blank col1\" >&nbsp;</th>\n",
       "      <th class=\"blank col2\" >&nbsp;</th>\n",
       "    </tr>\n",
       "  </thead>\n",
       "  <tbody>\n",
       "    <tr>\n",
       "      <th id=\"T_165a6_level0_row0\" class=\"row_heading level0 row0\" >0</th>\n",
       "      <td id=\"T_165a6_row0_col0\" class=\"data row0 col0\" >1.74%</td>\n",
       "      <td id=\"T_165a6_row0_col1\" class=\"data row0 col1\" >3.39%</td>\n",
       "      <td id=\"T_165a6_row0_col2\" class=\"data row0 col2\" >5.00%</td>\n",
       "    </tr>\n",
       "    <tr>\n",
       "      <th id=\"T_165a6_level0_row1\" class=\"row_heading level0 row1\" >1</th>\n",
       "      <td id=\"T_165a6_row1_col0\" class=\"data row1 col0\" ></td>\n",
       "      <td id=\"T_165a6_row1_col1\" class=\"data row1 col1\" >0.95%</td>\n",
       "      <td id=\"T_165a6_row1_col2\" class=\"data row1 col2\" >2.56%</td>\n",
       "    </tr>\n",
       "    <tr>\n",
       "      <th id=\"T_165a6_level0_row2\" class=\"row_heading level0 row2\" >2</th>\n",
       "      <td id=\"T_165a6_row2_col0\" class=\"data row2 col0\" ></td>\n",
       "      <td id=\"T_165a6_row2_col1\" class=\"data row2 col1\" ></td>\n",
       "      <td id=\"T_165a6_row2_col2\" class=\"data row2 col2\" >0.11%</td>\n",
       "    </tr>\n",
       "  </tbody>\n",
       "</table>\n"
      ],
      "text/plain": [
       "<pandas.io.formats.style.Styler at 0x201f5209e70>"
      ]
     },
     "execution_count": 49,
     "metadata": {},
     "output_type": "execute_result"
    }
   ],
   "source": [
    "new_col = pd.Series([.05,.0256,.0011],name='1')\n",
    "rate_tree_multi = pd.concat([rate_tree,new_col],ignore_index=True,axis=1)\n",
    "rate_tree_multi.columns = pd.Series(['0','0.5','1'],name='time $t$')\n",
    "rate_tree_multi.index.name = 'node'\n",
    "rate_tree_multi.style.format('{:.2%}',na_rep='')"
   ]
  },
  {
   "attachments": {},
   "cell_type": "markdown",
   "id": "5a09b0d9",
   "metadata": {},
   "source": [
    "### 4.1\n",
    "\n",
    "Calculate and show the tree of prices for the 3-period bond, $T=1.5$.\n",
    "\n",
    "* $P_{0|3} = \\$96.1462$\n",
    "* $P_{1,u|3} = e^{-r_{1,u}}100 = \\$96.6668$\n",
    "* $P_{1,d|3} = e^{-r_{1,d}}100 = \\$99.0545$\n",
    "* $P_{2,uu|3} = e^{-r_{1,uu}0.5}100 = \\$97.531$\n",
    "* $P_{2,du|3} = e^{-r_{1,du}0.5}100 = \\$98.7282$\n",
    "* $P_{2,dd|3} = e^{-r_{1,dd}0.5}100 = \\$99.945$\n",
    "* $P_{3,\\cdot|3} = \\$100$\n"
   ]
  },
  {
   "cell_type": "code",
   "execution_count": 50,
   "id": "52b6f91f",
   "metadata": {},
   "outputs": [],
   "source": [
    "P2_dd = math.exp(-0.0011 * 0.5) * 100\n",
    "P2_du = math.exp(-0.0256 * 0.5) * 100\n",
    "P2_uu = math.exp(-0.05 * 0.5) * 100\n",
    "P1_u = math.exp(-0.0339 * 1) * 100\n",
    "P1_d = math.exp(-0.0095 * 1) * 100\n",
    "P0 = math.exp(-0.0262 * 1.5) * 100"
   ]
  },
  {
   "attachments": {
    "image-2.png": {
     "image/png": "[encoded data removed]"
    }
   },
   "cell_type": "markdown",
   "id": "7736b635",
   "metadata": {},
   "source": [
    "![image.png](attachment:image-2.png)\n",
    "\n",
    "### 4.2\n",
    "Report the risk-neutral probability of an up movement at $t=1$.\n",
    "\n",
    "(The risk-neutral probability of an up movement at $t=0.5$ continues to be as you calculated in 2.3."
   ]
  },
  {
   "cell_type": "code",
   "execution_count": 51,
   "id": "fe2a7f01",
   "metadata": {},
   "outputs": [
    {
     "name": "stdout",
     "output_type": "stream",
     "text": [
      "The risk neutral probability of an upward movement at t=1|up is: 0.34153398040082517, or 34.15%\n",
      "The risk neutral probability of an upward movement at t=1|down is: 0.34423802446529234, or 34.42%\n",
      "Hence the risk neutral probability of an upward movement at t=0 is: 0.34249418644811747, or 34.25%\n"
     ]
    }
   ],
   "source": [
    "r1_up = 0.0339\n",
    "dt = 0.5\n",
    "A = np.exp(r1_up * dt)\n",
    "pstar_1 = (P1_u * A - P2_du)/(P2_uu-P2_du)\n",
    "\n",
    "print(f\"The risk neutral probability of an upward movement at t=1|up is: {pstar_1}, or {round(pstar_1 * 100, 2)}%\")\n",
    "\n",
    "## Calculation 2\n",
    "r1_down = 0.0095\n",
    "dt = 0.5\n",
    "A = np.exp(r1_down * dt)\n",
    "pstar_2 = (P1_d * A - P2_dd)/(P2_du-P2_dd)\n",
    "\n",
    "print(f\"The risk neutral probability of an upward movement at t=1|down is: {pstar_2}, or {round(pstar_2 * 100, 2)}%\")\n",
    "\n",
    "p_up = 0.6449 * pstar_1 + (1-0.6449) * pstar_2\n",
    "print(f\"Hence the risk neutral probability of an upward movement at t=0 is: {p_up}, or {round(p_up * 100, 2)}%\")"
   ]
  },
  {
   "attachments": {},
   "cell_type": "markdown",
   "id": "b6bfa53e",
   "metadata": {},
   "source": [
    "### 4.3\n",
    "Calculate the price of the European **call** option?\n",
    "* expiring at $T=1$ \n",
    "* written on the bond maturing in 3 periods, ($t=1.5$)\n",
    "\n",
    "I will assume the strike continues to be $99.00 and use replication to price."
   ]
  },
  {
   "cell_type": "code",
   "execution_count": 54,
   "id": "1db910ab",
   "metadata": {},
   "outputs": [
    {
     "name": "stdout",
     "output_type": "stream",
     "text": [
      "The t=0 price of the call expiring at T=1 with a strike of $99.00 = $0.22\n"
     ]
    }
   ],
   "source": [
    "# I will assume the strike continues to be $99\n",
    "\n",
    "# Start with upper tree\n",
    "FACE = 100\n",
    "r1_up = .0339\n",
    "P2_up = [97.531, 98.7282]\n",
    "K = 99\n",
    "fud = [0, 0]\n",
    "\n",
    "beta = (fud[0] - fud[1]) / (P2_up[0] - P2_up[1])\n",
    "alpha = (fud[0] - beta * P2_up[0])/FACE\n",
    "\n",
    "position = pd.DataFrame(index=['2-period bond','3-period bond'],columns=['price','position','$ holding'],dtype=float)\n",
    "position['price'] = [97.8925, 96.1462]\n",
    "position['position'] = [alpha,beta]\n",
    "position['$ holding'] = position['price'] * position['position']\n",
    "position.loc['net','$ holding'] = position['$ holding'].sum()\n",
    "# print(\"position 1:\", position)\n",
    "# Get the price of the upper node of the tree\n",
    "upper_price = position.iloc[2,2]\n",
    "\n",
    "# Now price the lower tree\n",
    "FACE = 100\n",
    "P2_down = [98.7282, 99.945]\n",
    "K=99\n",
    "fud = [ 0, P2_down[1] - K]\n",
    "\n",
    "\n",
    "beta = (fud[0] - fud[1]) / (P2_down[0] - P2_down[1])\n",
    "alpha = (fud[0] - beta * P2_down[0])/FACE\n",
    "\n",
    "position = pd.DataFrame(index=['2-period bond','3-period bond'],columns=['price','position','$ holding'],dtype=float)\n",
    "position['price'] = [97.8925, 96.1462]\n",
    "position['position'] = [alpha,beta]\n",
    "position['$ holding'] = position['price'] * position['position']\n",
    "position.loc['net','$ holding'] = position['$ holding'].sum()\n",
    "# print(\"position 2:\", position)\n",
    "\n",
    "# Get the price of the lower node of the tree\n",
    "lower_price = position.iloc[2,2]\n",
    "\n",
    "# Now that we have two prices, and pstar, we can solve for t=0 price using expectation.\n",
    "pstar = 0.6449 # From Problem 2\n",
    "C0_price = pstar * upper_price + (1 - pstar) * lower_price\n",
    "# print(f\"The t=0 price of the call expiring at T=1 with a strike of $99.00 = ${round(C0_price, 2)}\")\n",
    "\n",
    "\n",
    "price = 0.3551*(1-0.3442)*(99.945-99)\n",
    "print(f\"The t=0 price of the call expiring at T=1 with a strike of $99.00 = ${round(price, 2)}\")"
   ]
  },
  {
   "attachments": {},
   "cell_type": "markdown",
   "id": "fa708cda",
   "metadata": {},
   "source": [
    "### 4.4\n",
    "Consider a finer time grid. Let $dt$ in the tree now be 1/30 instead of 0.5.\n",
    "\n",
    "Using this smaller time step, compute the $t=0$ price of the following option:\n",
    "* option expires at $t=1$\n",
    "* written on bond maturing at $t=1.5$"
   ]
  },
  {
   "attachments": {},
   "cell_type": "markdown",
   "id": "bf88bb5a",
   "metadata": {},
   "source": [
    "# 5 American Style\n",
    "### 5.1\n",
    "Use the two-period tree from part 4, but this time to price an American-style **put** option.\n",
    "\n",
    "Use a grid of $dt=.5$.\n",
    "* What is its value at $t=0$?\n",
    "* Which nodes would you exercise it early?\n"
   ]
  },
  {
   "cell_type": "code",
   "execution_count": 53,
   "id": "7896ce88",
   "metadata": {},
   "outputs": [
    {
     "name": "stdout",
     "output_type": "stream",
     "text": [
      "The t=0 price of the put expiring at T=1 with a strike of 2% = $0.28\n"
     ]
    }
   ],
   "source": [
    "# I will assume the strike continues to be 2%\n",
    "# This is the same code as above with the payoff function adjusted for the put payoff\n",
    "\n",
    "# Start with upper tree\n",
    "FACE = 100\n",
    "r1_up = .0339\n",
    "r2 = np.array([.05, .0256])\n",
    "rK = .02\n",
    "fud = FACE * (rK-r2)\n",
    "fud[fud<0] = 0\n",
    "\n",
    "P2_up = [97.531, 98.7282]\n",
    "\n",
    "beta = (fud[0] - fud[1]) / (P2_up[0] - P2_up[1])\n",
    "alpha = (fud[0] - beta * P2_up[0])/FACE\n",
    "\n",
    "position = pd.DataFrame(index=['1-period bond','2-period bond'],columns=['price','position','$ holding'],dtype=float)\n",
    "position['price'] = [97.8925, 96.1462]\n",
    "position['position'] = [alpha,beta]\n",
    "position['$ holding'] = position['price'] * position['position']\n",
    "position.loc['net','$ holding'] = position['$ holding'].sum()\n",
    "\n",
    "# Get the price of the upper node of the tree\n",
    "upper_price = position.iloc[2,2]\n",
    "\n",
    "# Now price the lower tree\n",
    "FACE = 100\n",
    "r1_down = .0095\n",
    "r2 = np.array([.0256, .0011])\n",
    "rK = .02\n",
    "fud = FACE * (r2-rK)\n",
    "fud[fud<0] = 0\n",
    "\n",
    "P2_down = [98.7282, 99.945]\n",
    "\n",
    "beta = (fud[0] - fud[1]) / (P2_down[0] - P2_down[1])\n",
    "alpha = (fud[0] - beta * P2_down[0])/FACE\n",
    "\n",
    "position = pd.DataFrame(index=['1-period bond','2-period bond'],columns=['price','position','$ holding'],dtype=float)\n",
    "position['price'] = [97.8925, 96.1462]\n",
    "position['position'] = [alpha,beta]\n",
    "position['$ holding'] = position['price'] * position['position']\n",
    "position.loc['net','$ holding'] = position['$ holding'].sum()\n",
    "\n",
    "# Get the price of the lower node of the tree\n",
    "lower_price = position.iloc[2,2]\n",
    "\n",
    "# Now that we have two prices, and pstar, we can solve for t=0 price using expectation.\n",
    "pstar = 0.6449 # From Problem 2\n",
    "C0_price = pstar * upper_price + (1 - pstar) * lower_price\n",
    "print(f\"The t=0 price of the put expiring at T=1 with a strike of 2% = ${round(C0_price, 2)}\")"
   ]
  },
  {
   "attachments": {},
   "cell_type": "markdown",
   "id": "b97ca9c0",
   "metadata": {},
   "source": [
    "### 5.2\n",
    "Change the grid to $dt=1/30$, as in 4.4. \n",
    "* What is its value at $t=0$?\n",
    "* Make a visualization showing which nodes have early exercise. (I suggest using a dataframe and the `heatmap` from `seaborn`."
   ]
  }
 ],
 "metadata": {
  "hide_input": true,
  "kernelspec": {
   "display_name": "Python 3 (ipykernel)",
   "language": "python",
   "name": "python3"
  },
  "language_info": {
   "codemirror_mode": {
    "name": "ipython",
    "version": 3
   },
   "file_extension": ".py",
   "mimetype": "text/x-python",
   "name": "python",
   "nbconvert_exporter": "python",
   "pygments_lexer": "ipython3",
   "version": "3.10.11"
  }
 },
 "nbformat": 4,
 "nbformat_minor": 5
}
